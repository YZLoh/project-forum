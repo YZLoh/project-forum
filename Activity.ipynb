{
 "cells": [
  {
   "cell_type": "markdown",
   "metadata": {},
   "source": [
    "- edmw users post more on average\n",
    "- r/singapore post less\n",
    "- define active users, and see if we can find the # of active vs inactive users\n",
    "- Comparison between Users across platforms.\n",
    "- Reddit less bc of the Up/Downvote mechanisms."
   ]
  },
  {
   "cell_type": "code",
   "execution_count": 107,
   "metadata": {},
   "outputs": [],
   "source": [
    "import re\n",
    "import pandas as pd\n",
    "import numpy as np\n",
    "from datetime import datetime\n",
    "%matplotlib inline"
   ]
  },
  {
   "cell_type": "code",
   "execution_count": 2,
   "metadata": {},
   "outputs": [],
   "source": [
    "edmw = pd.read_csv('/Users/nus/Desktop/Project_Forum/edmw_data_clean.csv')\n",
    "reddit = pd.read_csv('/Users/nus/Desktop/Project_Forum/reddit_data_clean.csv')"
   ]
  },
  {
   "cell_type": "code",
   "execution_count": 3,
   "metadata": {},
   "outputs": [
    {
     "data": {
      "text/plain": [
       "evilcow          19660\n",
       "DOMHO7           14629\n",
       "beantowncrime    12999\n",
       "Ruoyenne         12909\n",
       "e905433k         11676\n",
       "PikaPika33       10935\n",
       "Solojaywalker     9977\n",
       "whywhy80          9684\n",
       "mrclubbie         9634\n",
       "MrPippen          9574\n",
       "RandomPancake     9537\n",
       "Hazelnuts1102     9384\n",
       "nachtsider        8564\n",
       "lemondrink        8558\n",
       "*-*无名*-*          8068\n",
       "kimby99           7426\n",
       "tiger2013         7315\n",
       "Gashina           7299\n",
       "Nemesis Alien     6600\n",
       "quirkyhill        6373\n",
       "Name: Comment Author, dtype: int64"
      ]
     },
     "execution_count": 3,
     "metadata": {},
     "output_type": "execute_result"
    }
   ],
   "source": [
    "#No. of comments by every EDMW user\n",
    "edmw['Comment Author'].value_counts().head(20)"
   ]
  },
  {
   "cell_type": "code",
   "execution_count": 4,
   "metadata": {},
   "outputs": [
    {
     "data": {
      "text/plain": [
       "_Solasura              9417\n",
       "totoybibo              8528\n",
       "a_man_without_a_pen    8217\n",
       "pkismeyea              7396\n",
       "Reddit-Loves-Me        7085\n",
       "Jammy_buttons          6689\n",
       "Pesantkie              6657\n",
       "HidingCat              6598\n",
       "KimJiHoon              6343\n",
       "rheinl                 6227\n",
       "blackwoodsix           6192\n",
       "microtek789            5533\n",
       "niteblane              5234\n",
       "triface1               5177\n",
       "SpermWhale             5096\n",
       "EndeavourBeaver        4628\n",
       "WatchThisSpot          4363\n",
       "DasBiceps              4297\n",
       "HisPri                 4289\n",
       "cokelemon              4086\n",
       "Name: Comment Author, dtype: int64"
      ]
     },
     "execution_count": 4,
     "metadata": {},
     "output_type": "execute_result"
    }
   ],
   "source": [
    "#No. of comments by every Reddit user\n",
    "reddit['Comment Author'].value_counts().head(20)"
   ]
  },
  {
   "cell_type": "code",
   "execution_count": 5,
   "metadata": {},
   "outputs": [
    {
     "name": "stdout",
     "output_type": "stream",
     "text": [
      "EDMW : 15510\n",
      "Reddit : 34756\n"
     ]
    }
   ],
   "source": [
    "#Number of unique commenters\n",
    "print('EDMW : {}'.format(edmw['Comment Author'].value_counts().count()))\n",
    "print('Reddit : {}'.format(reddit['Comment Author'].value_counts().count()))"
   ]
  },
  {
   "cell_type": "code",
   "execution_count": 6,
   "metadata": {},
   "outputs": [
    {
     "name": "stdout",
     "output_type": "stream",
     "text": [
      "EDMW : 110.75905867182463\n",
      "Reddit : 34.26755092645874\n"
     ]
    }
   ],
   "source": [
    "#Mean no. of comments per user\n",
    "print('EDMW : {}'.format(edmw['Comment Author'].value_counts().mean()))\n",
    "print('Reddit : {}'.format(reddit['Comment Author'].value_counts().mean()))"
   ]
  },
  {
   "cell_type": "code",
   "execution_count": 24,
   "metadata": {},
   "outputs": [
    {
     "name": "stdout",
     "output_type": "stream",
     "text": [
      "EDMW : 530.9961059830283\n",
      "Reddit : 204.7971704530993\n"
     ]
    }
   ],
   "source": [
    "#Standard deviation of no. of comments\n",
    "print('EDMW : {}'.format(edmw['Comment Author'].value_counts().std()))\n",
    "print('Reddit : {}'.format(reddit['Comment Author'].value_counts().std()))"
   ]
  },
  {
   "cell_type": "code",
   "execution_count": 7,
   "metadata": {},
   "outputs": [
    {
     "name": "stdout",
     "output_type": "stream",
     "text": [
      "EDMW : 5.0\n",
      "Reddit : 3.0\n"
     ]
    }
   ],
   "source": [
    "#Median no. of comments per user\n",
    "print('EDMW : {}'.format(edmw['Comment Author'].value_counts().median()))\n",
    "print('Reddit : {}'.format(reddit['Comment Author'].value_counts().median()))"
   ]
  },
  {
   "cell_type": "code",
   "execution_count": 8,
   "metadata": {},
   "outputs": [],
   "source": [
    "reddit['Unix Time'] = reddit['Comment Date'].apply(lambda x : datetime.strptime(x , '%d-%m-%Y, %I:%M%p').timestamp())\n",
    "edmw['Unix Time'] = edmw['Date'].apply(lambda x : datetime.strptime(x , '%d-%m-%Y, %I:%M %p').timestamp())\n"
   ]
  },
  {
   "cell_type": "code",
   "execution_count": 9,
   "metadata": {},
   "outputs": [],
   "source": [
    "reddit_authors = pd.DataFrame({'Author':reddit['Comment Author'].unique()})\n",
    "edmw_authors = pd.DataFrame({'Author':edmw['Comment Author'].unique()})"
   ]
  },
  {
   "cell_type": "code",
   "execution_count": 10,
   "metadata": {},
   "outputs": [
    {
     "name": "stdout",
     "output_type": "stream",
     "text": [
      "34756\r"
     ]
    }
   ],
   "source": [
    "reddit_mean_time_btwn_comments = []\n",
    "\n",
    "for author in reddit_authors['Author']:\n",
    "    author_comments = reddit[reddit['Comment Author']==author]\n",
    "    \n",
    "    if len(author_comments) > 1:\n",
    "        unix_time = author_comments['Unix Time']\n",
    "        time_btwn_comments = np.empty(shape = (unix_time.size - 1,))\n",
    "        \n",
    "        for z in range(unix_time.size - 1):\n",
    "            time = unix_time.iloc[z+1] - unix_time.iloc[z]\n",
    "            time_btwn_comments[z] = time\n",
    "            \n",
    "        reddit_mean_time_btwn_comments.append(time_btwn_comments.mean())\n",
    "        \n",
    "    else:\n",
    "        reddit_mean_time_btwn_comments.append(np.NaN)\n",
    "        \n",
    "        \n",
    "    print(len(reddit_mean_time_btwn_comments),end='\\r')\n",
    "            \n",
    "    "
   ]
  },
  {
   "cell_type": "code",
   "execution_count": 11,
   "metadata": {},
   "outputs": [
    {
     "name": "stdout",
     "output_type": "stream",
     "text": [
      "15510\r"
     ]
    }
   ],
   "source": [
    "edmw_mean_time_btwn_comments = []\n",
    "pd.options.mode.chained_assignment = None\n",
    "\n",
    "for author in edmw_authors['Author']:\n",
    "    author_comments = edmw[edmw['Comment Author']==author]\n",
    "    author_comments.sort_values(by=['Unix Time'], inplace=True, ascending=True)\n",
    "    \n",
    "    if len(author_comments) > 1:\n",
    "        unix_time = author_comments['Unix Time']\n",
    "        time_btwn_comments = np.empty(shape = (unix_time.size - 1,))\n",
    "        \n",
    "        for z in range(unix_time.size - 1):\n",
    "            time = unix_time.iloc[z+1] - unix_time.iloc[z]\n",
    "            time_btwn_comments[z] = time\n",
    "            \n",
    "        edmw_mean_time_btwn_comments.append(time_btwn_comments.mean())\n",
    "        \n",
    "    else:\n",
    "        edmw_mean_time_btwn_comments.append(np.NaN)\n",
    "        \n",
    "        \n",
    "    print(len(edmw_mean_time_btwn_comments),end='\\r')\n",
    "            \n",
    "    "
   ]
  },
  {
   "cell_type": "code",
   "execution_count": 12,
   "metadata": {},
   "outputs": [],
   "source": [
    "reddit_authors['Mean Time Between Comments (min)'] = reddit_mean_time_btwn_comments\n",
    "edmw_authors['Mean Time Between Comments (min)'] = edmw_mean_time_btwn_comments"
   ]
  },
  {
   "cell_type": "code",
   "execution_count": 13,
   "metadata": {},
   "outputs": [],
   "source": [
    "reddit_authors['Mean Time Between Comments (min)']=reddit_authors['Mean Time Between Comments (min)']/60\n",
    "edmw_authors['Mean Time Between Comments (min)']=edmw_authors['Mean Time Between Comments (min)']/60"
   ]
  },
  {
   "cell_type": "code",
   "execution_count": 14,
   "metadata": {},
   "outputs": [
    {
     "name": "stdout",
     "output_type": "stream",
     "text": [
      "EDMW : 26255.975292653806\n",
      "Reddit : 38905.726683717374\n"
     ]
    }
   ],
   "source": [
    "#Mean mean time between comments\n",
    "print('EDMW : {}'.format(edmw_authors['Mean Time Between Comments (min)'].mean()))\n",
    "print('Reddit : {}'.format(reddit_authors['Mean Time Between Comments (min)'].mean()))"
   ]
  },
  {
   "cell_type": "code",
   "execution_count": 25,
   "metadata": {},
   "outputs": [
    {
     "name": "stdout",
     "output_type": "stream",
     "text": [
      "EDMW : 56719.19162522656\n",
      "Reddit : 68354.61058799255\n"
     ]
    }
   ],
   "source": [
    "#Standard deviation of mean time between comments\n",
    "print('EDMW : {}'.format(edmw_authors['Mean Time Between Comments (min)'].std()))\n",
    "print('Reddit : {}'.format(reddit_authors['Mean Time Between Comments (min)'].std()))"
   ]
  },
  {
   "cell_type": "code",
   "execution_count": 15,
   "metadata": {},
   "outputs": [
    {
     "name": "stdout",
     "output_type": "stream",
     "text": [
      "EDMW : 5639.370056497175\n",
      "Reddit : 13720.4\n"
     ]
    }
   ],
   "source": [
    "#Median mean time between comments\n",
    "print('EDMW : {}'.format(edmw_authors['Mean Time Between Comments (min)'].median()))\n",
    "print('Reddit : {}'.format(reddit_authors['Mean Time Between Comments (min)'].median()))"
   ]
  },
  {
   "cell_type": "code",
   "execution_count": 16,
   "metadata": {},
   "outputs": [],
   "source": [
    "reddit_freq = pd.DataFrame(reddit['Comment Author'].value_counts())\n",
    "reddit_freq = reddit_freq.reset_index()\n",
    "reddit_freq.columns = ['Author','No. of Comments']"
   ]
  },
  {
   "cell_type": "code",
   "execution_count": 17,
   "metadata": {},
   "outputs": [],
   "source": [
    "reddit_freq = pd.merge(reddit_freq, reddit_authors, on='Author')"
   ]
  },
  {
   "cell_type": "code",
   "execution_count": 18,
   "metadata": {},
   "outputs": [
    {
     "data": {
      "text/html": [
       "<div>\n",
       "<style scoped>\n",
       "    .dataframe tbody tr th:only-of-type {\n",
       "        vertical-align: middle;\n",
       "    }\n",
       "\n",
       "    .dataframe tbody tr th {\n",
       "        vertical-align: top;\n",
       "    }\n",
       "\n",
       "    .dataframe thead th {\n",
       "        text-align: right;\n",
       "    }\n",
       "</style>\n",
       "<table border=\"1\" class=\"dataframe\">\n",
       "  <thead>\n",
       "    <tr style=\"text-align: right;\">\n",
       "      <th></th>\n",
       "      <th>Author</th>\n",
       "      <th>No. of Comments</th>\n",
       "      <th>Mean Time Between Comments (min)</th>\n",
       "    </tr>\n",
       "  </thead>\n",
       "  <tbody>\n",
       "    <tr>\n",
       "      <th>0</th>\n",
       "      <td>_Solasura</td>\n",
       "      <td>9417</td>\n",
       "      <td>70.958794</td>\n",
       "    </tr>\n",
       "    <tr>\n",
       "      <th>1</th>\n",
       "      <td>totoybibo</td>\n",
       "      <td>8528</td>\n",
       "      <td>78.240061</td>\n",
       "    </tr>\n",
       "    <tr>\n",
       "      <th>2</th>\n",
       "      <td>a_man_without_a_pen</td>\n",
       "      <td>8217</td>\n",
       "      <td>51.752556</td>\n",
       "    </tr>\n",
       "    <tr>\n",
       "      <th>3</th>\n",
       "      <td>pkismeyea</td>\n",
       "      <td>7396</td>\n",
       "      <td>93.706694</td>\n",
       "    </tr>\n",
       "    <tr>\n",
       "      <th>4</th>\n",
       "      <td>Reddit-Loves-Me</td>\n",
       "      <td>7085</td>\n",
       "      <td>97.842885</td>\n",
       "    </tr>\n",
       "    <tr>\n",
       "      <th>5</th>\n",
       "      <td>Jammy_buttons</td>\n",
       "      <td>6689</td>\n",
       "      <td>91.156100</td>\n",
       "    </tr>\n",
       "    <tr>\n",
       "      <th>6</th>\n",
       "      <td>Pesantkie</td>\n",
       "      <td>6657</td>\n",
       "      <td>104.210186</td>\n",
       "    </tr>\n",
       "    <tr>\n",
       "      <th>7</th>\n",
       "      <td>HidingCat</td>\n",
       "      <td>6598</td>\n",
       "      <td>103.472033</td>\n",
       "    </tr>\n",
       "    <tr>\n",
       "      <th>8</th>\n",
       "      <td>KimJiHoon</td>\n",
       "      <td>6343</td>\n",
       "      <td>109.008672</td>\n",
       "    </tr>\n",
       "    <tr>\n",
       "      <th>9</th>\n",
       "      <td>rheinl</td>\n",
       "      <td>6227</td>\n",
       "      <td>111.375522</td>\n",
       "    </tr>\n",
       "    <tr>\n",
       "      <th>10</th>\n",
       "      <td>blackwoodsix</td>\n",
       "      <td>6192</td>\n",
       "      <td>78.641576</td>\n",
       "    </tr>\n",
       "    <tr>\n",
       "      <th>11</th>\n",
       "      <td>microtek789</td>\n",
       "      <td>5533</td>\n",
       "      <td>125.279465</td>\n",
       "    </tr>\n",
       "    <tr>\n",
       "      <th>12</th>\n",
       "      <td>niteblane</td>\n",
       "      <td>5234</td>\n",
       "      <td>127.075674</td>\n",
       "    </tr>\n",
       "    <tr>\n",
       "      <th>13</th>\n",
       "      <td>triface1</td>\n",
       "      <td>5177</td>\n",
       "      <td>133.887751</td>\n",
       "    </tr>\n",
       "    <tr>\n",
       "      <th>14</th>\n",
       "      <td>SpermWhale</td>\n",
       "      <td>5096</td>\n",
       "      <td>135.419627</td>\n",
       "    </tr>\n",
       "    <tr>\n",
       "      <th>15</th>\n",
       "      <td>EndeavourBeaver</td>\n",
       "      <td>4628</td>\n",
       "      <td>121.041928</td>\n",
       "    </tr>\n",
       "    <tr>\n",
       "      <th>16</th>\n",
       "      <td>WatchThisSpot</td>\n",
       "      <td>4363</td>\n",
       "      <td>158.504585</td>\n",
       "    </tr>\n",
       "    <tr>\n",
       "      <th>17</th>\n",
       "      <td>DasBiceps</td>\n",
       "      <td>4297</td>\n",
       "      <td>161.236266</td>\n",
       "    </tr>\n",
       "    <tr>\n",
       "      <th>18</th>\n",
       "      <td>HisPri</td>\n",
       "      <td>4289</td>\n",
       "      <td>144.431437</td>\n",
       "    </tr>\n",
       "    <tr>\n",
       "      <th>19</th>\n",
       "      <td>cokelemon</td>\n",
       "      <td>4086</td>\n",
       "      <td>161.062913</td>\n",
       "    </tr>\n",
       "  </tbody>\n",
       "</table>\n",
       "</div>"
      ],
      "text/plain": [
       "                 Author  No. of Comments  Mean Time Between Comments (min)\n",
       "0             _Solasura             9417                         70.958794\n",
       "1             totoybibo             8528                         78.240061\n",
       "2   a_man_without_a_pen             8217                         51.752556\n",
       "3             pkismeyea             7396                         93.706694\n",
       "4       Reddit-Loves-Me             7085                         97.842885\n",
       "5         Jammy_buttons             6689                         91.156100\n",
       "6             Pesantkie             6657                        104.210186\n",
       "7             HidingCat             6598                        103.472033\n",
       "8             KimJiHoon             6343                        109.008672\n",
       "9                rheinl             6227                        111.375522\n",
       "10         blackwoodsix             6192                         78.641576\n",
       "11          microtek789             5533                        125.279465\n",
       "12            niteblane             5234                        127.075674\n",
       "13             triface1             5177                        133.887751\n",
       "14           SpermWhale             5096                        135.419627\n",
       "15      EndeavourBeaver             4628                        121.041928\n",
       "16        WatchThisSpot             4363                        158.504585\n",
       "17            DasBiceps             4297                        161.236266\n",
       "18               HisPri             4289                        144.431437\n",
       "19            cokelemon             4086                        161.062913"
      ]
     },
     "execution_count": 18,
     "metadata": {},
     "output_type": "execute_result"
    }
   ],
   "source": [
    "reddit_freq.head(20)"
   ]
  },
  {
   "cell_type": "code",
   "execution_count": 19,
   "metadata": {},
   "outputs": [],
   "source": [
    "edmw_freq = pd.DataFrame(edmw['Comment Author'].value_counts())\n",
    "edmw_freq = edmw_freq.reset_index()\n",
    "edmw_freq.columns = ['Author','No. of Comments']"
   ]
  },
  {
   "cell_type": "code",
   "execution_count": 20,
   "metadata": {},
   "outputs": [],
   "source": [
    "edmw_freq = pd.merge(edmw_freq, edmw_authors, on='Author')"
   ]
  },
  {
   "cell_type": "code",
   "execution_count": 21,
   "metadata": {},
   "outputs": [
    {
     "data": {
      "text/html": [
       "<div>\n",
       "<style scoped>\n",
       "    .dataframe tbody tr th:only-of-type {\n",
       "        vertical-align: middle;\n",
       "    }\n",
       "\n",
       "    .dataframe tbody tr th {\n",
       "        vertical-align: top;\n",
       "    }\n",
       "\n",
       "    .dataframe thead th {\n",
       "        text-align: right;\n",
       "    }\n",
       "</style>\n",
       "<table border=\"1\" class=\"dataframe\">\n",
       "  <thead>\n",
       "    <tr style=\"text-align: right;\">\n",
       "      <th></th>\n",
       "      <th>Author</th>\n",
       "      <th>No. of Comments</th>\n",
       "      <th>Mean Time Between Comments (min)</th>\n",
       "    </tr>\n",
       "  </thead>\n",
       "  <tbody>\n",
       "    <tr>\n",
       "      <th>0</th>\n",
       "      <td>evilcow</td>\n",
       "      <td>19660</td>\n",
       "      <td>14.205860</td>\n",
       "    </tr>\n",
       "    <tr>\n",
       "      <th>1</th>\n",
       "      <td>DOMHO7</td>\n",
       "      <td>14629</td>\n",
       "      <td>46.815969</td>\n",
       "    </tr>\n",
       "    <tr>\n",
       "      <th>2</th>\n",
       "      <td>beantowncrime</td>\n",
       "      <td>12999</td>\n",
       "      <td>19.067703</td>\n",
       "    </tr>\n",
       "    <tr>\n",
       "      <th>3</th>\n",
       "      <td>Ruoyenne</td>\n",
       "      <td>12909</td>\n",
       "      <td>48.900139</td>\n",
       "    </tr>\n",
       "    <tr>\n",
       "      <th>4</th>\n",
       "      <td>e905433k</td>\n",
       "      <td>11676</td>\n",
       "      <td>58.641113</td>\n",
       "    </tr>\n",
       "    <tr>\n",
       "      <th>5</th>\n",
       "      <td>PikaPika33</td>\n",
       "      <td>10935</td>\n",
       "      <td>63.546735</td>\n",
       "    </tr>\n",
       "    <tr>\n",
       "      <th>6</th>\n",
       "      <td>Solojaywalker</td>\n",
       "      <td>9977</td>\n",
       "      <td>17.733059</td>\n",
       "    </tr>\n",
       "    <tr>\n",
       "      <th>7</th>\n",
       "      <td>whywhy80</td>\n",
       "      <td>9684</td>\n",
       "      <td>60.106165</td>\n",
       "    </tr>\n",
       "    <tr>\n",
       "      <th>8</th>\n",
       "      <td>mrclubbie</td>\n",
       "      <td>9634</td>\n",
       "      <td>72.137444</td>\n",
       "    </tr>\n",
       "    <tr>\n",
       "      <th>9</th>\n",
       "      <td>MrPippen</td>\n",
       "      <td>9574</td>\n",
       "      <td>57.284341</td>\n",
       "    </tr>\n",
       "    <tr>\n",
       "      <th>10</th>\n",
       "      <td>RandomPancake</td>\n",
       "      <td>9537</td>\n",
       "      <td>70.424182</td>\n",
       "    </tr>\n",
       "    <tr>\n",
       "      <th>11</th>\n",
       "      <td>Hazelnuts1102</td>\n",
       "      <td>9384</td>\n",
       "      <td>57.407546</td>\n",
       "    </tr>\n",
       "    <tr>\n",
       "      <th>12</th>\n",
       "      <td>nachtsider</td>\n",
       "      <td>8564</td>\n",
       "      <td>80.077660</td>\n",
       "    </tr>\n",
       "    <tr>\n",
       "      <th>13</th>\n",
       "      <td>lemondrink</td>\n",
       "      <td>8558</td>\n",
       "      <td>81.118616</td>\n",
       "    </tr>\n",
       "    <tr>\n",
       "      <th>14</th>\n",
       "      <td>*-*无名*-*</td>\n",
       "      <td>8068</td>\n",
       "      <td>33.596008</td>\n",
       "    </tr>\n",
       "    <tr>\n",
       "      <th>15</th>\n",
       "      <td>kimby99</td>\n",
       "      <td>7426</td>\n",
       "      <td>85.142088</td>\n",
       "    </tr>\n",
       "    <tr>\n",
       "      <th>16</th>\n",
       "      <td>tiger2013</td>\n",
       "      <td>7315</td>\n",
       "      <td>94.096117</td>\n",
       "    </tr>\n",
       "    <tr>\n",
       "      <th>17</th>\n",
       "      <td>Gashina</td>\n",
       "      <td>7299</td>\n",
       "      <td>79.696355</td>\n",
       "    </tr>\n",
       "    <tr>\n",
       "      <th>18</th>\n",
       "      <td>Nemesis Alien</td>\n",
       "      <td>6600</td>\n",
       "      <td>105.158963</td>\n",
       "    </tr>\n",
       "    <tr>\n",
       "      <th>19</th>\n",
       "      <td>quirkyhill</td>\n",
       "      <td>6373</td>\n",
       "      <td>106.930320</td>\n",
       "    </tr>\n",
       "  </tbody>\n",
       "</table>\n",
       "</div>"
      ],
      "text/plain": [
       "           Author  No. of Comments  Mean Time Between Comments (min)\n",
       "0         evilcow            19660                         14.205860\n",
       "1          DOMHO7            14629                         46.815969\n",
       "2   beantowncrime            12999                         19.067703\n",
       "3        Ruoyenne            12909                         48.900139\n",
       "4        e905433k            11676                         58.641113\n",
       "5      PikaPika33            10935                         63.546735\n",
       "6   Solojaywalker             9977                         17.733059\n",
       "7        whywhy80             9684                         60.106165\n",
       "8       mrclubbie             9634                         72.137444\n",
       "9        MrPippen             9574                         57.284341\n",
       "10  RandomPancake             9537                         70.424182\n",
       "11  Hazelnuts1102             9384                         57.407546\n",
       "12     nachtsider             8564                         80.077660\n",
       "13     lemondrink             8558                         81.118616\n",
       "14       *-*无名*-*             8068                         33.596008\n",
       "15        kimby99             7426                         85.142088\n",
       "16      tiger2013             7315                         94.096117\n",
       "17        Gashina             7299                         79.696355\n",
       "18  Nemesis Alien             6600                        105.158963\n",
       "19     quirkyhill             6373                        106.930320"
      ]
     },
     "execution_count": 21,
     "metadata": {},
     "output_type": "execute_result"
    }
   ],
   "source": [
    "edmw_freq.head(20)"
   ]
  },
  {
   "cell_type": "code",
   "execution_count": 22,
   "metadata": {},
   "outputs": [],
   "source": [
    "reddit_freq.to_csv('~/Desktop/Project_Forum/reddit_activity.csv',index = False)\n",
    "edmw_freq.to_csv('~/Desktop/Project_Forum/edmw_activity.csv',index = False)"
   ]
  },
  {
   "cell_type": "markdown",
   "metadata": {},
   "source": [
    "## Conclusion\n",
    "- EDMW users comment more (more overall comments)\n",
    "- EDMW users post more frequently (lesser mean time between posts)\n",
    "- However, Reddit has many more users (more than twice of EDMW)"
   ]
  },
  {
   "cell_type": "code",
   "execution_count": 82,
   "metadata": {},
   "outputs": [],
   "source": [
    "x = edmw['Comment Author'].value_counts()\n",
    "\n"
   ]
  },
  {
   "cell_type": "code",
   "execution_count": 118,
   "metadata": {},
   "outputs": [
    {
     "name": "stdout",
     "output_type": "stream",
     "text": [
      "0.495357833655706\n",
      "0.12037395228884591\n",
      "0.18039974210186976\n",
      "0.058220502901353964\n",
      "0.04854932301740812\n",
      "0.023533204384268213\n",
      "0.014184397163120567\n",
      "0.00980012894906512\n",
      "0.00793036750483559\n",
      "0.005738233397807866\n",
      "0.005673758865248227\n",
      "0.003932946486137976\n",
      "0.002127659574468085\n",
      "0.024177949709864602\n"
     ]
    }
   ],
   "source": [
    "print(x[x<5].count()/x.count())\n",
    "print(x[(x>=5) & (x<10)].count()/x.count())\n",
    "print(x[(x>=10) & (x<50)].count()/x.count())\n",
    "print(x[(x>=50) & (x<100)].count()/x.count())\n",
    "print(x[(x>=100) & (x<200)].count()/x.count())\n",
    "print(x[(x>=200) & (x<300)].count()/x.count())\n",
    "print(x[(x>=300) & (x<400)].count()/x.count())\n",
    "print(x[(x>=400) & (x<500)].count()/x.count())\n",
    "print(x[(x>=500) & (x<600)].count()/x.count())\n",
    "print(x[(x>=600) & (x<700)].count()/x.count())\n",
    "print(x[(x>=700) & (x<800)].count()/x.count())\n",
    "print(x[(x>=800) & (x<900)].count()/x.count())\n",
    "print(x[(x>=900) & (x<1000)].count()/x.count())\n",
    "print(x[x>1000].count()/x.count())\n"
   ]
  },
  {
   "cell_type": "code",
   "execution_count": 119,
   "metadata": {},
   "outputs": [],
   "source": [
    "y = reddit['Comment Author'].value_counts()\n"
   ]
  },
  {
   "cell_type": "code",
   "execution_count": 121,
   "metadata": {},
   "outputs": [
    {
     "name": "stdout",
     "output_type": "stream",
     "text": [
      "0.5761019680055243\n",
      "0.1378754747381747\n",
      "0.18655771665323972\n",
      "0.04120151916215905\n",
      "0.027333410058694902\n",
      "0.010242835769363563\n",
      "0.00543791000115088\n",
      "0.003337553228219588\n",
      "0.0021291287835193923\n",
      "0.0015249165611692945\n",
      "0.0012947404764644954\n",
      "0.0009207043388191967\n",
      "0.0010645643917596961\n",
      "0.004977557831741282\n"
     ]
    }
   ],
   "source": [
    "print(y[y<5].count()/y.count())\n",
    "print(y[(y>=5) & (y<10)].count()/y.count())\n",
    "print(y[(y>=10) & (y<50)].count()/y.count())\n",
    "print(y[(y>=50) & (y<100)].count()/y.count())\n",
    "print(y[(y>=100) & (y<200)].count()/y.count())\n",
    "print(y[(y>=200) & (y<300)].count()/y.count())\n",
    "print(y[(y>=300) & (y<400)].count()/y.count())\n",
    "print(y[(y>=400) & (y<500)].count()/y.count())\n",
    "print(y[(y>=500) & (y<600)].count()/y.count())\n",
    "print(y[(y>=600) & (y<700)].count()/y.count())\n",
    "print(y[(y>=700) & (y<800)].count()/y.count())\n",
    "print(y[(y>=800) & (y<900)].count()/y.count())\n",
    "print(y[(y>=900) & (y<1000)].count()/y.count())\n",
    "print(y[y>1000].count()/y.count())\n"
   ]
  },
  {
   "cell_type": "code",
   "execution_count": null,
   "metadata": {},
   "outputs": [],
   "source": []
  }
 ],
 "metadata": {
  "kernelspec": {
   "display_name": "Python 3",
   "language": "python",
   "name": "python3"
  },
  "language_info": {
   "codemirror_mode": {
    "name": "ipython",
    "version": 3
   },
   "file_extension": ".py",
   "mimetype": "text/x-python",
   "name": "python",
   "nbconvert_exporter": "python",
   "pygments_lexer": "ipython3",
   "version": "3.7.3"
  }
 },
 "nbformat": 4,
 "nbformat_minor": 2
}
